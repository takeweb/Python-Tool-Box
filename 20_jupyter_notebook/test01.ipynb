{
 "cells": [
  {
   "cell_type": "code",
   "execution_count": 1,
   "metadata": {},
   "outputs": [],
   "source": [
    "data = [('2020-06-27 00:00:00', 80.5), ('2020-06-28 00:00:00', 79.1), ('2020-06-29 00:00:00', 80.4), ('2020-06-30 08:25:21.237547', 79.8), ('2020-07-01 09:34:07.267306', 79.9), ('2020-07-02 08:34:28.304148', 79.5), ('2020-07-03 03:00:03', 79.3), ('2020-07-03 07:22:14.059333', 79.0), ('2020-07-04 04:11:18', 79.4), ('2020-07-04 04:17:32', 79.1)]"
   ]
  },
  {
   "cell_type": "code",
   "execution_count": 2,
   "metadata": {},
   "outputs": [
    {
     "data": {
      "text/plain": [
       "[('2020-06-27 00:00:00', 80.5),\n",
       " ('2020-06-28 00:00:00', 79.1),\n",
       " ('2020-06-29 00:00:00', 80.4),\n",
       " ('2020-06-30 08:25:21.237547', 79.8),\n",
       " ('2020-07-01 09:34:07.267306', 79.9),\n",
       " ('2020-07-02 08:34:28.304148', 79.5),\n",
       " ('2020-07-03 03:00:03', 79.3),\n",
       " ('2020-07-03 07:22:14.059333', 79.0),\n",
       " ('2020-07-04 04:11:18', 79.4),\n",
       " ('2020-07-04 04:17:32', 79.1)]"
      ]
     },
     "execution_count": 2,
     "metadata": {},
     "output_type": "execute_result"
    }
   ],
   "source": [
    "data"
   ]
  },
  {
   "cell_type": "code",
   "execution_count": 4,
   "metadata": {},
   "outputs": [
    {
     "data": {
      "text/plain": [
       "{('2020-06-27 00:00:00', 80.5),\n",
       " ('2020-06-28 00:00:00', 79.1),\n",
       " ('2020-06-29 00:00:00', 80.4),\n",
       " ('2020-06-30 08:25:21.237547', 79.8),\n",
       " ('2020-07-01 09:34:07.267306', 79.9),\n",
       " ('2020-07-02 08:34:28.304148', 79.5),\n",
       " ('2020-07-03 03:00:03', 79.3),\n",
       " ('2020-07-03 07:22:14.059333', 79.0),\n",
       " ('2020-07-04 04:11:18', 79.4),\n",
       " ('2020-07-04 04:17:32', 79.1)}"
      ]
     },
     "execution_count": 4,
     "metadata": {},
     "output_type": "execute_result"
    }
   ],
   "source": [
    "{i for i in data}"
   ]
  },
  {
   "cell_type": "code",
   "execution_count": 6,
   "metadata": {},
   "outputs": [],
   "source": [
    "import jpholiday\n",
    "import datetime\n",
    "dt_now = datetime.datetime.now()\n",
    "now_year = dt_now.year\n",
    "now_month = dt_now.month\n",
    "now_day = dt_now.day"
   ]
  },
  {
   "cell_type": "code",
   "execution_count": 12,
   "metadata": {},
   "outputs": [
    {
     "data": {
      "text/plain": [
       "(2, 31)"
      ]
     },
     "execution_count": 12,
     "metadata": {},
     "output_type": "execute_result"
    }
   ],
   "source": [
    "import calendar\n",
    "calendar.monthrange(now_year, 1)"
   ]
  },
  {
   "cell_type": "code",
   "execution_count": 14,
   "metadata": {},
   "outputs": [
    {
     "data": {
      "text/plain": [
       "2"
      ]
     },
     "execution_count": 14,
     "metadata": {},
     "output_type": "execute_result"
    }
   ],
   "source": [
    "calendar.monthrange(now_year, 1)[0]"
   ]
  },
  {
   "cell_type": "code",
   "execution_count": 15,
   "metadata": {},
   "outputs": [
    {
     "data": {
      "text/plain": [
       "31"
      ]
     },
     "execution_count": 15,
     "metadata": {},
     "output_type": "execute_result"
    }
   ],
   "source": [
    "calendar.monthrange(now_year, 1)[1]"
   ]
  },
  {
   "cell_type": "code",
   "execution_count": 16,
   "metadata": {},
   "outputs": [
    {
     "data": {
      "text/plain": [
       "2020"
      ]
     },
     "execution_count": 16,
     "metadata": {},
     "output_type": "execute_result"
    }
   ],
   "source": [
    "now_year"
   ]
  },
  {
   "cell_type": "code",
   "execution_count": 17,
   "metadata": {},
   "outputs": [
    {
     "data": {
      "text/plain": [
       "(5, 29)"
      ]
     },
     "execution_count": 17,
     "metadata": {},
     "output_type": "execute_result"
    }
   ],
   "source": [
    "calendar.monthrange(now_year, 2)"
   ]
  },
  {
   "cell_type": "code",
   "execution_count": 18,
   "metadata": {},
   "outputs": [
    {
     "data": {
      "text/plain": [
       "(6, 31)"
      ]
     },
     "execution_count": 18,
     "metadata": {},
     "output_type": "execute_result"
    }
   ],
   "source": [
    "calendar.monthrange(now_year, 3)"
   ]
  },
  {
   "cell_type": "code",
   "execution_count": 19,
   "metadata": {},
   "outputs": [
    {
     "data": {
      "text/plain": [
       "(2, 30)"
      ]
     },
     "execution_count": 19,
     "metadata": {},
     "output_type": "execute_result"
    }
   ],
   "source": [
    "calendar.monthrange(now_year, 4)"
   ]
  },
  {
   "cell_type": "code",
   "execution_count": 21,
   "metadata": {},
   "outputs": [
    {
     "data": {
      "text/plain": [
       "'元日'"
      ]
     },
     "execution_count": 21,
     "metadata": {},
     "output_type": "execute_result"
    }
   ],
   "source": [
    "import jpholiday\n",
    "jpholiday.is_holiday_name(datetime.date(2017, 1, 1))"
   ]
  },
  {
   "cell_type": "code",
   "execution_count": 22,
   "metadata": {},
   "outputs": [
    {
     "data": {
      "text/plain": [
       "True"
      ]
     },
     "execution_count": 22,
     "metadata": {},
     "output_type": "execute_result"
    }
   ],
   "source": [
    "jpholiday.is_holiday(datetime.date(2017, 1, 1))"
   ]
  },
  {
   "cell_type": "code",
   "execution_count": 23,
   "metadata": {},
   "outputs": [],
   "source": [
    "now_year = dt_now.year\n",
    "now_month = dt_now.month\n",
    "now_day = dt_now.day"
   ]
  },
  {
   "cell_type": "code",
   "execution_count": 24,
   "metadata": {},
   "outputs": [
    {
     "name": "stdout",
     "output_type": "stream",
     "text": [
      "2020\n"
     ]
    }
   ],
   "source": [
    "print(now_year)"
   ]
  },
  {
   "cell_type": "code",
   "execution_count": 25,
   "metadata": {},
   "outputs": [
    {
     "name": "stdout",
     "output_type": "stream",
     "text": [
      "7\n"
     ]
    }
   ],
   "source": [
    "print(now_month)"
   ]
  },
  {
   "cell_type": "code",
   "execution_count": 26,
   "metadata": {},
   "outputs": [
    {
     "name": "stdout",
     "output_type": "stream",
     "text": [
      "6\n"
     ]
    }
   ],
   "source": [
    "print(now_day)"
   ]
  },
  {
   "cell_type": "code",
   "execution_count": 27,
   "metadata": {},
   "outputs": [
    {
     "data": {
      "text/plain": [
       "int"
      ]
     },
     "execution_count": 27,
     "metadata": {},
     "output_type": "execute_result"
    }
   ],
   "source": [
    "type(now_month)"
   ]
  },
  {
   "cell_type": "code",
   "execution_count": 28,
   "metadata": {},
   "outputs": [
    {
     "data": {
      "text/plain": [
       "[(datetime.date(2020, 1, 1), '元日'),\n",
       " (datetime.date(2020, 1, 13), '成人の日'),\n",
       " (datetime.date(2020, 2, 11), '建国記念の日'),\n",
       " (datetime.date(2020, 2, 23), '天皇誕生日'),\n",
       " (datetime.date(2020, 2, 24), '天皇誕生日 振替休日'),\n",
       " (datetime.date(2020, 3, 20), '春分の日'),\n",
       " (datetime.date(2020, 4, 29), '昭和の日'),\n",
       " (datetime.date(2020, 5, 3), '憲法記念日'),\n",
       " (datetime.date(2020, 5, 4), 'みどりの日'),\n",
       " (datetime.date(2020, 5, 5), 'こどもの日'),\n",
       " (datetime.date(2020, 5, 6), '憲法記念日 振替休日'),\n",
       " (datetime.date(2020, 7, 23), '海の日'),\n",
       " (datetime.date(2020, 7, 24), 'スポーツの日'),\n",
       " (datetime.date(2020, 8, 10), '山の日'),\n",
       " (datetime.date(2020, 9, 21), '敬老の日'),\n",
       " (datetime.date(2020, 9, 22), '秋分の日'),\n",
       " (datetime.date(2020, 11, 3), '文化の日'),\n",
       " (datetime.date(2020, 11, 23), '勤労感謝の日')]"
      ]
     },
     "execution_count": 28,
     "metadata": {},
     "output_type": "execute_result"
    }
   ],
   "source": [
    "jpholiday.year_holidays(2020)"
   ]
  },
  {
   "cell_type": "code",
   "execution_count": 33,
   "metadata": {},
   "outputs": [
    {
     "data": {
      "text/plain": [
       "348"
      ]
     },
     "execution_count": 33,
     "metadata": {},
     "output_type": "execute_result"
    }
   ],
   "source": [
    "366- len(jpholiday.year_holidays(2020))"
   ]
  },
  {
   "cell_type": "code",
   "execution_count": 34,
   "metadata": {},
   "outputs": [
    {
     "data": {
      "text/plain": [
       "18"
      ]
     },
     "execution_count": 34,
     "metadata": {},
     "output_type": "execute_result"
    }
   ],
   "source": [
    "len(jpholiday.year_holidays(2020))"
   ]
  },
  {
   "cell_type": "code",
   "execution_count": 38,
   "metadata": {},
   "outputs": [
    {
     "data": {
      "text/plain": [
       "246"
      ]
     },
     "execution_count": 38,
     "metadata": {},
     "output_type": "execute_result"
    }
   ],
   "source": [
    "366 - (102+ 18)"
   ]
  },
  {
   "cell_type": "code",
   "execution_count": 41,
   "metadata": {},
   "outputs": [],
   "source": [
    "list_my_holiday = ['2020-1-2', '2020-1-3', '2020-1-4']"
   ]
  },
  {
   "cell_type": "code",
   "execution_count": 45,
   "metadata": {},
   "outputs": [
    {
     "data": {
      "text/plain": [
       "[['2020', '1', '2'], ['2020', '1', '3'], ['2020', '1', '4']]"
      ]
     },
     "execution_count": 45,
     "metadata": {},
     "output_type": "execute_result"
    }
   ],
   "source": [
    "[i.split('-') for i in list_my_holiday]"
   ]
  },
  {
   "cell_type": "code",
   "execution_count": 48,
   "metadata": {},
   "outputs": [
    {
     "data": {
      "text/plain": [
       "[2020, 2020, 2020]"
      ]
     },
     "execution_count": 48,
     "metadata": {},
     "output_type": "execute_result"
    }
   ],
   "source": [
    "[int(i.split('-')[0]) for i in list_my_holiday]"
   ]
  },
  {
   "cell_type": "code",
   "execution_count": 49,
   "metadata": {},
   "outputs": [
    {
     "data": {
      "text/plain": [
       "[datetime.date(2020, 1, 2),\n",
       " datetime.date(2020, 1, 3),\n",
       " datetime.date(2020, 1, 4)]"
      ]
     },
     "execution_count": 49,
     "metadata": {},
     "output_type": "execute_result"
    }
   ],
   "source": [
    "[datetime.date(int(i.split('-')[0]), int(i.split('-')[1]), int(i.split('-')[2])) for i in list_my_holiday]"
   ]
  },
  {
   "cell_type": "code",
   "execution_count": 57,
   "metadata": {},
   "outputs": [],
   "source": [
    "target = 11010"
   ]
  },
  {
   "cell_type": "code",
   "execution_count": 58,
   "metadata": {},
   "outputs": [],
   "source": [
    "n = len(str(target)) - 1"
   ]
  },
  {
   "cell_type": "code",
   "execution_count": 59,
   "metadata": {},
   "outputs": [
    {
     "data": {
      "text/plain": [
       "4"
      ]
     },
     "execution_count": 59,
     "metadata": {},
     "output_type": "execute_result"
    }
   ],
   "source": [
    "n"
   ]
  },
  {
   "cell_type": "code",
   "execution_count": null,
   "metadata": {},
   "outputs": [],
   "source": []
  }
 ],
 "metadata": {
  "kernelspec": {
   "display_name": "Python 3",
   "language": "python",
   "name": "python3"
  },
  "language_info": {
   "codemirror_mode": {
    "name": "ipython",
    "version": 3
   },
   "file_extension": ".py",
   "mimetype": "text/x-python",
   "name": "python",
   "nbconvert_exporter": "python",
   "pygments_lexer": "ipython3",
   "version": "3.7.4"
  }
 },
 "nbformat": 4,
 "nbformat_minor": 4
}
