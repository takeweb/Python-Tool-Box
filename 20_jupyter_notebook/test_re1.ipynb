{
 "cells": [
  {
   "cell_type": "code",
   "execution_count": 3,
   "metadata": {},
   "outputs": [
    {
     "name": "stdout",
     "output_type": "stream",
     "text": [
      "2020-07-30 00:00:00\n"
     ]
    }
   ],
   "source": [
    "import re, datetime\n",
    "#arg_dt_regist = \"2020/07/30\"\n",
    "#arg_dt_regist = \"2020-07-30\"\n",
    "arg_dt_regist = \"2020年07月30日\"\n",
    "\n",
    "re3 = re.compile(\"^(\\d{4})\\D(\\d{2})\\D(\\d{2})\\D$\")\n",
    "\n",
    "if re.search(re3, arg_dt_regist):\n",
    "#if re.compile(\"^\\d{4}\\D\\d{2}\\D\\d{2}\\D$\").search(arg_dt_regist):\n",
    "    arg_dt_regist = datetime.datetime(int(arg_dt_regist[0:4])\n",
    "                                        , int(arg_dt_regist[5:7])\n",
    "                                        , int(arg_dt_regist[8:10]))\n",
    "print(arg_dt_regist)"
   ]
  },
  {
   "cell_type": "code",
   "execution_count": 14,
   "metadata": {},
   "outputs": [
    {
     "data": {
      "text/plain": [
       "7"
      ]
     },
     "execution_count": 14,
     "metadata": {},
     "output_type": "execute_result"
    }
   ],
   "source": [
    "int('07')"
   ]
  },
  {
   "cell_type": "code",
   "execution_count": 1,
   "metadata": {},
   "outputs": [
    {
     "name": "stdout",
     "output_type": "stream",
     "text": [
      "2020-07-30 00:00:00\n"
     ]
    }
   ],
   "source": [
    "import re, datetime\n",
    "arg_dt_regist = \"2020/07/30\"\n",
    "\n",
    "if re.compile(\"^\\d{4}\\D\\d{2}\\D\\d{2}$\").match(arg_dt_regist):\n",
    "    dt_regist = datetime.datetime(int(arg_dt_regist[0:4])\n",
    "                                        , int(arg_dt_regist[5:7])\n",
    "                                        , int(arg_dt_regist[8:10]))\n",
    "    print(dt_regist)\n",
    "else:\n",
    "    print(\"not match\")"
   ]
  },
  {
   "cell_type": "code",
   "execution_count": 41,
   "metadata": {},
   "outputs": [
    {
     "name": "stdout",
     "output_type": "stream",
     "text": [
      "012\n"
     ]
    }
   ],
   "source": [
    "import re\n",
    "s = '012-3456-7890'\n",
    "m = re.search(r'\\d+', s)\n",
    "print(m.group())"
   ]
  },
  {
   "cell_type": "code",
   "execution_count": 31,
   "metadata": {},
   "outputs": [
    {
     "name": "stdout",
     "output_type": "stream",
     "text": [
      "['012', '3456', '789']\n"
     ]
    }
   ],
   "source": [
    "import re\n",
    "s = '012-3456-789x'\n",
    "m = re.findall(r'\\d+', s)\n",
    "print(m)"
   ]
  },
  {
   "cell_type": "code",
   "execution_count": 42,
   "metadata": {},
   "outputs": [
    {
     "name": "stdout",
     "output_type": "stream",
     "text": [
      "()\n"
     ]
    }
   ],
   "source": [
    "import re\n",
    "s = '012-3456-7890'\n",
    "m = re.search(r'\\d+', s)\n",
    "print(m.groups())"
   ]
  },
  {
   "cell_type": "code",
   "execution_count": 63,
   "metadata": {},
   "outputs": [
    {
     "name": "stdout",
     "output_type": "stream",
     "text": [
      "2020-07-30 00:00:00\n"
     ]
    }
   ],
   "source": [
    "import re, datetime\n",
    "arg_dt_regist = \"2020年07月30日\"\n",
    "\n",
    "if re.search(\"^\\d{4}\\D\\d{2}\\D\\d{2}\\D$\", arg_dt_regist):\n",
    "    m = re.search(\"^(\\d{4})\\D(\\d{2})\\D(\\d{2})\\D$\", arg_dt_regist)\n",
    "    aaa = m.groups()\n",
    "    dt_regist = datetime.datetime(int(aaa[0]), int(aaa[1]), int(aaa[2]))\n",
    "    print(dt_regist)\n",
    "else:\n",
    "    print(\"not match\")"
   ]
  },
  {
   "cell_type": "code",
   "execution_count": 65,
   "metadata": {},
   "outputs": [
    {
     "name": "stdout",
     "output_type": "stream",
     "text": [
      "2020-07-30 00:00:00\n"
     ]
    }
   ],
   "source": [
    "import re, datetime\n",
    "arg_dt_regist = \"2020年07月30日\"\n",
    "\n",
    "re1 = re.compile(\"^(\\d{4})\\D(\\d{2})\\D(\\d{2})\\D$\")\n",
    "if re.search(re1, arg_dt_regist):\n",
    "    m = re.search(re1, arg_dt_regist)\n",
    "    aaa = m.groups()\n",
    "    dt_regist = datetime.datetime(int(aaa[0]), int(aaa[1]), int(aaa[2]))\n",
    "    print(dt_regist)\n",
    "else:\n",
    "    print(\"not match\")"
   ]
  },
  {
   "cell_type": "code",
   "execution_count": 14,
   "metadata": {},
   "outputs": [
    {
     "name": "stdout",
     "output_type": "stream",
     "text": [
      "2020-07-30 00:00:00\n"
     ]
    }
   ],
   "source": [
    "import re, datetime\n",
    "#arg_dt_regist = \"2020/07/30\"\n",
    "#arg_dt_regist = \"2020-07-30\"\n",
    "arg_dt_regist = \"2020年07月30日 12:30:30\"\n",
    "\n",
    "re1 = re.compile(\"^(\\d{4})\\D(\\d{2})\\D(\\d{2})\\D (\\d{2}):(\\d{2}):(\\d{2})$\")\n",
    "\n",
    "if re.search(re1, arg_dt_regist):\n",
    "    m = re.search(re1, arg_dt_regist)\n",
    "    gs = m.groups()\n",
    "    dt_regist = datetime.datetime(int(gs[0]), int(gs[1]), int(gs[2]))\n",
    "    print(dt_regist)"
   ]
  },
  {
   "cell_type": "code",
   "execution_count": 15,
   "metadata": {},
   "outputs": [
    {
     "name": "stdout",
     "output_type": "stream",
     "text": [
      "2020-07-30 00:00:00\n"
     ]
    }
   ],
   "source": [
    "import re, datetime\n",
    "#arg_dt_regist = \"2020/07/30\"\n",
    "#arg_dt_regist = \"2020-07-30\"\n",
    "arg_dt_regist = \"2020年07月30日 12:30\"\n",
    "\n",
    "re2 = re.compile(\"^(\\d{4})\\D(\\d{2})\\D(\\d{2})\\D (\\d{2}):(\\d{2})$\")\n",
    "\n",
    "if re.search(re2, arg_dt_regist):\n",
    "    m = re.search(re2, arg_dt_regist)\n",
    "    gs = m.groups()\n",
    "    dt_regist = datetime.datetime(int(gs[0]), int(gs[1]), int(gs[2]))\n",
    "    print(dt_regist)"
   ]
  },
  {
   "cell_type": "code",
   "execution_count": 17,
   "metadata": {},
   "outputs": [
    {
     "name": "stdout",
     "output_type": "stream",
     "text": [
      "2020-07-30 00:00:00\n"
     ]
    }
   ],
   "source": [
    "import re, datetime\n",
    "#arg_dt_regist = \"2020/07/30\"\n",
    "#arg_dt_regist = \"2020-07-30\"\n",
    "arg_dt_regist = \"2020年07月30日\"\n",
    "\n",
    "if isinstance(arg_dt_regist, datetime.datetime):\n",
    "    dt_regist = arg_dt_regist\n",
    "else:\n",
    "    arg_dt_regist = str(arg_dt_regist)\n",
    "    re3 = re.compile(\"^(\\d{4})\\D(\\d{2})\\D(\\d{2})\\D$\")\n",
    "\n",
    "    if re.search(re3, arg_dt_regist):\n",
    "        m = re.search(re3, arg_dt_regist)\n",
    "        gs = m.groups()\n",
    "        dt_regist = datetime.datetime(int(gs[0]), int(gs[1]), int(gs[2]))\n",
    "        print(dt_regist)"
   ]
  },
  {
   "cell_type": "code",
   "execution_count": 57,
   "metadata": {},
   "outputs": [
    {
     "name": "stdout",
     "output_type": "stream",
     "text": [
      "2020-07-30 10:30:30\n"
     ]
    }
   ],
   "source": [
    "import re, datetime, sys\n",
    "#arg_dt_regist = \"2020/07/30\"\n",
    "#arg_dt_regist = \"2020-07-30\"\n",
    "#arg_dt_regist = \"2020:07:30\"\n",
    "#arg_dt_regist = \"2020年07月30日\"\n",
    "arg_dt_regist = \"2020-07-30 10:30:30\"\n",
    "\n",
    "def conv_str_datetime(arg_dt_regist):\n",
    "    dt_regist = \"\"\n",
    "    if isinstance(arg_dt_regist, datetime.datetime):\n",
    "        dt_regist = arg_dt_regist\n",
    "    else:\n",
    "        re1 = re.compile(\"^(\\d{4})\\D*(\\d{2})\\D*(\\d{2})\\D* (\\d{2}):*(\\d{2}):*(\\d{2})$\")\n",
    "        re2 = re.compile(\"^(\\d{4})\\D*(\\d{2})\\D*(\\d{2})\\D* (\\d{2}):*(\\d{2})$\")\n",
    "        re3 = re.compile(\"^(\\d{4})\\D*(\\d{2})\\D*(\\d{2})\\D*$\")\n",
    "        arg_dt_regist = str(arg_dt_regist)\n",
    "\n",
    "        if re.search(re1, arg_dt_regist):\n",
    "            m = re.search(re1, arg_dt_regist)\n",
    "            gs = m.groups()\n",
    "            dt_regist = datetime.datetime(int(gs[0]), int(gs[1]), int(gs[2]), int(gs[3]), int(gs[4]), int(gs[5]))\n",
    "        elif re.search(re2, arg_dt_regist):\n",
    "            m = re.search(re2, arg_dt_regist)\n",
    "            gs = m.groups()\n",
    "            dt_regist = datetime.datetime(int(gs[0]), int(gs[1]), int(gs[2])\n",
    "                                        , int(gs[3]), int(gs[4]))\n",
    "        elif re.search(re3, arg_dt_regist):\n",
    "            m = re.search(re3, arg_dt_regist)\n",
    "            gs = m.groups()\n",
    "            print(gs)\n",
    "            #dt_regist = datetime.datetime(int(gs[0]), int(gs[1]), int(gs[2]))\n",
    "        else:\n",
    "            print(\"not match!!\")\n",
    "\n",
    "    return dt_regist\n",
    "\n",
    "print(conv_str_datetime(arg_dt_regist))\n"
   ]
  },
  {
   "cell_type": "code",
   "execution_count": 43,
   "metadata": {},
   "outputs": [
    {
     "name": "stdout",
     "output_type": "stream",
     "text": [
      "not match!!\n"
     ]
    }
   ],
   "source": [
    "import re, datetime, sys\n",
    "#arg_dt_regist = \"2020/07/30\"\n",
    "#arg_dt_regist = \"2020-07-30\"\n",
    "arg_dt_regist = \"2020:07:30\"\n",
    "#arg_dt_regist = \"2020年07月30日\"\n",
    "\n",
    "re3 = re.compile(\"^(\\d{4})\\D(\\d{2})\\D(\\d{2})\\D$\")\n",
    "\n",
    "if re.search(re3, arg_dt_regist):\n",
    "    m = re.search(re3, arg_dt_regist)\n",
    "    gs = m.groups()\n",
    "    print(gs)\n",
    "else:\n",
    "    print(\"not match!!\")"
   ]
  },
  {
   "cell_type": "code",
   "execution_count": 52,
   "metadata": {},
   "outputs": [
    {
     "name": "stdout",
     "output_type": "stream",
     "text": [
      "match!!\n"
     ]
    }
   ],
   "source": [
    "import re\n",
    "\n",
    "arg_dt_regist = \"2020:02:30\"\n",
    "re3 = re.compile(\"^(\\d{4})\\D(\\d{2})\\D(\\d{2})\\D*$\")\n",
    "#re3 = re.compile(\"^(\\d{4})\\D(\\d{2})$\")\n",
    "if re.search(re3, arg_dt_regist):\n",
    "    print(\"match!!\")\n",
    "else:\n",
    "    print(\"not match!!\")"
   ]
  },
  {
   "cell_type": "code",
   "execution_count": null,
   "metadata": {},
   "outputs": [],
   "source": []
  },
  {
   "cell_type": "code",
   "execution_count": null,
   "metadata": {},
   "outputs": [],
   "source": []
  }
 ],
 "metadata": {
  "kernelspec": {
   "display_name": "Python 3",
   "language": "python",
   "name": "python3"
  },
  "language_info": {
   "codemirror_mode": {
    "name": "ipython",
    "version": 3
   },
   "file_extension": ".py",
   "mimetype": "text/x-python",
   "name": "python",
   "nbconvert_exporter": "python",
   "pygments_lexer": "ipython3",
   "version": "3.7.4"
  }
 },
 "nbformat": 4,
 "nbformat_minor": 4
}
